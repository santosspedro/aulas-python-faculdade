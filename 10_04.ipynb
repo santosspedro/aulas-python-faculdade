{
  "nbformat": 4,
  "nbformat_minor": 0,
  "metadata": {
    "colab": {
      "provenance": [],
      "authorship_tag": "ABX9TyM+g0ccAuONZXNhnfMGhBCt",
      "include_colab_link": true
    },
    "kernelspec": {
      "name": "python3",
      "display_name": "Python 3"
    },
    "language_info": {
      "name": "python"
    }
  },
  "cells": [
    {
      "cell_type": "markdown",
      "metadata": {
        "id": "view-in-github",
        "colab_type": "text"
      },
      "source": [
        "<a href=\"https://colab.research.google.com/github/santosspedro/aulas-python-faculdade/blob/main/10_04.ipynb\" target=\"_parent\"><img src=\"https://colab.research.google.com/assets/colab-badge.svg\" alt=\"Open In Colab\"/></a>"
      ]
    },
    {
      "cell_type": "code",
      "execution_count": null,
      "metadata": {
        "colab": {
          "base_uri": "https://localhost:8080/",
          "height": 106
        },
        "id": "W0JKrhakcc_j",
        "outputId": "361e5463-dcf8-4701-ce98-d115fdbd8281"
      },
      "outputs": [
        {
          "output_type": "error",
          "ename": "IndentationError",
          "evalue": "unexpected indent (<ipython-input-14-bd752117eff9>, line 6)",
          "traceback": [
            "\u001b[0;36m  File \u001b[0;32m\"<ipython-input-14-bd752117eff9>\"\u001b[0;36m, line \u001b[0;32m6\u001b[0m\n\u001b[0;31m    print(\"Valor inválido\")\u001b[0m\n\u001b[0m    ^\u001b[0m\n\u001b[0;31mIndentationError\u001b[0m\u001b[0;31m:\u001b[0m unexpected indent\n"
          ]
        }
      ],
      "source": [
        "y = [1,2,3]\n",
        "try:\n",
        "  x=int(input(\"Digite um número:\"))\n",
        "  print(y[x])\n",
        "except: ValueError\n",
        "  print(\"Valor inválido\")\n",
        "except:\n",
        "  print(\"Número errado: \")"
      ]
    },
    {
      "cell_type": "code",
      "source": [
        "x = 10\n",
        "x += 12\n",
        "y = int(x/4)\n",
        "x = x + y\n",
        "\n",
        "print(x, y)"
      ],
      "metadata": {
        "colab": {
          "base_uri": "https://localhost:8080/"
        },
        "id": "karo_2FHYyIa",
        "outputId": "bba7731a-287f-42f1-b92b-130a5074897f"
      },
      "execution_count": null,
      "outputs": [
        {
          "output_type": "stream",
          "name": "stdout",
          "text": [
            "27 5\n"
          ]
        }
      ]
    },
    {
      "cell_type": "code",
      "source": [
        "from logging import exception\n",
        "def velocimetro():\n",
        "  try:\n",
        "    velocidade = int(input(\"Qual a velocidade do carro do usuário? \"))\n",
        "\n",
        "    if velocidade > 80:\n",
        "      velocidade_amais = velocidade - 80\n",
        "      multa_total = velocidade_amais * 5\n",
        "      print(\"O valor da multa é:\", multa_total,\"reais\")\n",
        "    else:\n",
        "      print(\"Não há multa\")\n",
        "\n",
        "  except:\n",
        "    print(\"Valor inválido\")\n",
        "\n",
        "velocimetro()"
      ],
      "metadata": {
        "colab": {
          "base_uri": "https://localhost:8080/"
        },
        "id": "DzzneGxriXPC",
        "outputId": "4a36f62d-7527-49e9-b48d-1f352bd36ff0"
      },
      "execution_count": null,
      "outputs": [
        {
          "output_type": "stream",
          "name": "stdout",
          "text": [
            "Qual a velocidade do carro do usuário? 80\n",
            "Não há multa\n"
          ]
        }
      ]
    },
    {
      "cell_type": "code",
      "source": [
        "velocimetro()"
      ],
      "metadata": {
        "colab": {
          "base_uri": "https://localhost:8080/"
        },
        "id": "EOlfoSQXl6Bl",
        "outputId": "d1c9d1fc-d0a6-4250-b81a-fa06e702ddb5"
      },
      "execution_count": null,
      "outputs": [
        {
          "output_type": "stream",
          "name": "stdout",
          "text": [
            "Valorinválido\n"
          ]
        }
      ]
    },
    {
      "cell_type": "code",
      "source": [
        "def area_quadrado():\n",
        "  try:\n",
        "    aresta = float(input(\"Insira o comprimento das arestas do quadrado: \"))\n",
        "    area = aresta**2\n",
        "    print(\"A área do quadrado é: \", area)\n",
        "    dobro_da_area = area * 2\n",
        "    print(\"O dobro da área é:\", dobro_da_area)\n",
        "  except:\n",
        "    print(\"Valor inválido\")\n",
        "\n",
        "area_quadrado()"
      ],
      "metadata": {
        "colab": {
          "base_uri": "https://localhost:8080/"
        },
        "id": "Uq9h7P1rQgK-",
        "outputId": "30dfa594-9cc7-4a3f-a2f9-cd3633b02b20"
      },
      "execution_count": null,
      "outputs": [
        {
          "output_type": "stream",
          "name": "stdout",
          "text": [
            "Insira o comprimento das arestas do quadrado: m\n",
            "Valor inválido\n"
          ]
        }
      ]
    },
    {
      "cell_type": "code",
      "source": [
        "def calculo_salario():\n",
        "  try:\n",
        "    salario_por_hora = float(input(\"Quanto você recebe por hora?\"))\n",
        "    horas_trabalhadas = int(input(\"Quantas horas você trabalha diariamente?\"))\n",
        "    dias_por_semana = int(input(\"Você trabalha quantos dias por semana?\"))\n",
        "    if dias_por_semana < 8:\n",
        "      por_dia = salario_por_hora * horas_trabalhadas\n",
        "      por_semana = por_dia * dias_por_semana\n",
        "      por_mes = por_semana * 4\n",
        "      print(\"Seu salário é:\", por_mes, \"R$\")\n",
        "  except:\n",
        "    print(\"Valor inválido\")\n",
        "\n",
        "calculo_salario()"
      ],
      "metadata": {
        "colab": {
          "base_uri": "https://localhost:8080/"
        },
        "id": "sVB76TfgR40p",
        "outputId": "49127389-ca18-4785-8d12-52971478a84d"
      },
      "execution_count": null,
      "outputs": [
        {
          "output_type": "stream",
          "name": "stdout",
          "text": [
            "Quanto você recebe por hora?m\n",
            "Valor inválido\n"
          ]
        }
      ]
    },
    {
      "cell_type": "code",
      "source": [
        "def user_name():\n",
        "  name = input(\"What is your name, dear strange? \")\n",
        "  if len(name) > 0:\n",
        "    print(\"Hello,\", name, \"!\")\n",
        "  else:\n",
        "    print(\"Hello world!\")\n",
        "\n",
        "user_name()"
      ],
      "metadata": {
        "colab": {
          "base_uri": "https://localhost:8080/"
        },
        "id": "9NzhOH0kG0Gl",
        "outputId": "f862b0a3-d814-4bcf-83e8-c46840ca7d04"
      },
      "execution_count": null,
      "outputs": [
        {
          "output_type": "stream",
          "name": "stdout",
          "text": [
            "What is your name, dear strange? \n",
            "Hello world!\n"
          ]
        }
      ]
    },
    {
      "cell_type": "code",
      "source": [
        "while True:\n",
        "    distancia_percorrida = input(\"Qual distância percorrida? \")\n",
        "\n",
        "    if distancia_percorrida.lower() == 'sair':\n",
        "        print(\"Programa encerrado\")\n",
        "        break\n",
        "\n",
        "    distancia_percorrida = float(distancia_percorrida)\n",
        "\n",
        "    if distancia_percorrida > 400:\n",
        "        tarifa_maior = 0.35 * distancia_percorrida\n",
        "        print(f\"O valor da tarifa é R${tarifa_maior:.2f}\")\n",
        "    elif distancia_percorrida > 200 and distancia_percorrida <= 400:\n",
        "        tarifa_media = 0.45 * distancia_percorrida\n",
        "        print(f\"O valor da tarifa é R${tarifa_media:.2f}\")\n",
        "    elif distancia_percorrida <= 200:\n",
        "        tarifa_menor = 0.50 * distancia_percorrida\n",
        "        print(f\"O valor da tarifa é R${tarifa_menor:.2f}\")\n"
      ],
      "metadata": {
        "colab": {
          "base_uri": "https://localhost:8080/"
        },
        "id": "73DtFiCUqswQ",
        "outputId": "89a68eb4-f88f-43e3-da41-a734565b2fd2"
      },
      "execution_count": 1,
      "outputs": [
        {
          "output_type": "stream",
          "name": "stdout",
          "text": [
            "Qual distância percorrida? 160\n",
            "O valor da tarifa é R$80.00\n",
            "Qual distância percorrida? 90\n",
            "O valor da tarifa é R$45.00\n",
            "Qual distância percorrida? sair\n",
            "Programa encerrado\n"
          ]
        }
      ]
    },
    {
      "cell_type": "code",
      "source": [],
      "metadata": {
        "id": "K-7XV4aYpxeA"
      },
      "execution_count": null,
      "outputs": []
    },
    {
      "cell_type": "code",
      "source": [],
      "metadata": {
        "id": "JjNnG1XtteNJ"
      },
      "execution_count": null,
      "outputs": []
    },
    {
      "cell_type": "code",
      "source": [],
      "metadata": {
        "colab": {
          "base_uri": "https://localhost:8080/",
          "height": 159
        },
        "id": "V51cBZrhIHgQ",
        "outputId": "4beef745-9af1-4c30-8558-94ac16405969"
      },
      "execution_count": null,
      "outputs": [
        {
          "output_type": "error",
          "ename": "AttributeError",
          "evalue": "'str' object attribute 'startswith' is read-only",
          "traceback": [
            "\u001b[0;31m---------------------------------------------------------------------------\u001b[0m",
            "\u001b[0;31mAttributeError\u001b[0m                            Traceback (most recent call last)",
            "\u001b[0;32m<ipython-input-3-91fb493b3354>\u001b[0m in \u001b[0;36m<cell line: 2>\u001b[0;34m()\u001b[0m\n\u001b[1;32m      1\u001b[0m \u001b[0mpedro_e_lindo\u001b[0m \u001b[0;34m=\u001b[0m \u001b[0;34m\"O Pedro é lindo\"\u001b[0m\u001b[0;34m\u001b[0m\u001b[0;34m\u001b[0m\u001b[0m\n\u001b[0;32m----> 2\u001b[0;31m \u001b[0mpedro_e_lindo\u001b[0m\u001b[0;34m.\u001b[0m\u001b[0mstartswith\u001b[0m \u001b[0;34m=\u001b[0m \u001b[0;34m\"O Pedro é lindo\"\u001b[0m\u001b[0;34m\u001b[0m\u001b[0;34m\u001b[0m\u001b[0m\n\u001b[0m",
            "\u001b[0;31mAttributeError\u001b[0m: 'str' object attribute 'startswith' is read-only"
          ]
        }
      ]
    }
  ]
}